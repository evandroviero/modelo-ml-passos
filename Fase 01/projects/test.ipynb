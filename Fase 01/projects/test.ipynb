{
 "cells": [
  {
   "cell_type": "code",
   "execution_count": 5,
   "metadata": {},
   "outputs": [
    {
     "name": "stdout",
     "output_type": "stream",
     "text": [
      "                                     Produto Quantidade (L.)\n",
      "0                              VINHO DE MESA     169.762.429\n",
      "1                                      Tinto     139.320.884\n",
      "2                                     Branco      27.910.299\n",
      "3                                     Rosado       2.531.246\n",
      "4              VINHO FINO DE MESA (VINIFERA)      46.268.556\n",
      "5                                      Tinto      23.615.783\n",
      "6                                     Branco      20.693.437\n",
      "7                                     Rosado       1.959.336\n",
      "8                                       SUCO      67.045.238\n",
      "9                       Suco de uva integral      38.122.173\n",
      "10                   Suco de uva concentrado      28.216.760\n",
      "11                       Suco de uva adoçado          94.587\n",
      "12                      Suco de uva orgânico         611.718\n",
      "13                 Suco de uva reconstituído               -\n",
      "14                                 DERIVADOS     174.716.647\n",
      "15                                 Espumante          65.525\n",
      "16                        Espumante moscatel          14.744\n",
      "17                            Base espumante               -\n",
      "18                   Base espumante moscatel       6.734.590\n",
      "19                Base Champenoise champanha       1.552.243\n",
      "20                    Base Charmat champanha       5.418.118\n",
      "21                             Bebida de uva           1.627\n",
      "22                              Polpa de uva       1.388.251\n",
      "23                             Mosto simples     157.848.983\n",
      "24                         Mosto concentrado               -\n",
      "25                   Mosto de uva com bagaço           7.784\n",
      "26                        Mosto dessulfitado               -\n",
      "27                                  Mistelas             600\n",
      "28                             Néctar de uva          70.976\n",
      "29                                 Licorosos               -\n",
      "30                                 Compostos               -\n",
      "31                                  Jeropiga           4.500\n",
      "32                                  Filtrado               -\n",
      "33                                  Frisante               -\n",
      "34                                Vinho leve               -\n",
      "35                            Vinho licoroso          73.600\n",
      "36                                    Brandy             450\n",
      "37                                 Destilado               -\n",
      "38                                 Bagaceira               -\n",
      "39                        Licor de bagaceira               -\n",
      "40                                   Vinagre           9.000\n",
      "41                             Borra líquida         758.140\n",
      "42                                Borra seca          17.200\n",
      "43                            Vinho Composto               -\n",
      "44                                     Pisco               -\n",
      "45                            Vinho orgânico          94.150\n",
      "46                        Espumante orgânico           1.365\n",
      "47  Destilado alcoólico simples de bagaceira               -\n",
      "48                         Vinho acidificado           2.500\n",
      "49             Mosto parcialmente fermentado               -\n",
      "50                          Outros derivados         652.301\n",
      "51                                     Total     457.792.870\n"
     ]
    },
    {
     "name": "stderr",
     "output_type": "stream",
     "text": [
      "/var/folders/vj/vmyct24x0g1f1qkkk7wdd6zw0000gn/T/ipykernel_14684/2485048330.py:20: FutureWarning: Passing literal html to 'read_html' is deprecated and will be removed in a future version. To read from a literal string, wrap it in a 'StringIO' object.\n",
      "  df = pd.read_html(str(table), header=0)[0]\n"
     ]
    }
   ],
   "source": [
    "import requests\n",
    "import pandas as pd\n",
    "from bs4 import BeautifulSoup\n",
    "\n",
    "# url = \"http://vitibrasil.cnpuv.embrapa.br/index.php?subopcao=subopt_02&opcao=opt_03\"\n",
    "url = \"http://vitibrasil.cnpuv.embrapa.br/index.php?opcao=opt_02\"\n",
    "\n",
    "# Faz a requisição HTTP\n",
    "response = requests.get(url)\n",
    "\n",
    "if response.status_code == 200:\n",
    "    # Faz o parsing do HTML\n",
    "    soup = BeautifulSoup(response.text, \"html.parser\")\n",
    "    \n",
    "    # Encontra a tabela específica pela classe\n",
    "    table = soup.find(\"table\", class_=\"tb_base tb_dados\")\n",
    "\n",
    "    if table:\n",
    "        # Converte a tabela em um DataFrame do Pandas\n",
    "        df = pd.read_html(str(table), header=0)[0]\n",
    "        print(df)\n",
    "    else:\n",
    "        print(\"Nenhuma tabela com a classe 'tb_base tb_dados' foi encontrada.\")\n",
    "else:\n",
    "    print(f\"Erro ao acessar a página: {response.status_code}\")\n"
   ]
  }
 ],
 "metadata": {
  "kernelspec": {
   "display_name": "Python 3",
   "language": "python",
   "name": "python3"
  },
  "language_info": {
   "codemirror_mode": {
    "name": "ipython",
    "version": 3
   },
   "file_extension": ".py",
   "mimetype": "text/x-python",
   "name": "python",
   "nbconvert_exporter": "python",
   "pygments_lexer": "ipython3",
   "version": "3.12.0"
  }
 },
 "nbformat": 4,
 "nbformat_minor": 2
}
