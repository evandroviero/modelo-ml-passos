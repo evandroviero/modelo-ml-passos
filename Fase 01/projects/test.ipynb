{
 "cells": [
  {
   "cell_type": "code",
   "execution_count": 1,
   "metadata": {},
   "outputs": [
    {
     "name": "stdout",
     "output_type": "stream",
     "text": [
      "              Cultivar Quantidade (Kg)\n",
      "0               TINTAS      35.881.118\n",
      "1    Alicante Bouschet       4.108.858\n",
      "2             Ancelota         783.688\n",
      "3               Aramon               -\n",
      "4          Alfrocheiro               -\n",
      "..                 ...             ...\n",
      "135          Vernaccia             800\n",
      "136            Viogner          21.794\n",
      "137           Viognier         974.005\n",
      "138          Outras(3)               -\n",
      "139              Total      99.557.416\n",
      "\n",
      "[140 rows x 2 columns]\n"
     ]
    },
    {
     "name": "stderr",
     "output_type": "stream",
     "text": [
      "/var/folders/vj/vmyct24x0g1f1qkkk7wdd6zw0000gn/T/ipykernel_27879/3292343018.py:20: FutureWarning: Passing literal html to 'read_html' is deprecated and will be removed in a future version. To read from a literal string, wrap it in a 'StringIO' object.\n",
      "  df = pd.read_html(str(table), header=0)[0]\n"
     ]
    }
   ],
   "source": [
    "import requests\n",
    "import pandas as pd\n",
    "from bs4 import BeautifulSoup\n",
    "\n",
    "# url = \"http://vitibrasil.cnpuv.embrapa.br/index.php?subopcao=subopt_02&opcao=opt_03\"\n",
    "url = \"http://vitibrasil.cnpuv.embrapa.br/index.php?opcao=opt_03\"\n",
    "\n",
    "# Faz a requisição HTTP\n",
    "response = requests.get(url)\n",
    "\n",
    "if response.status_code == 200:\n",
    "    # Faz o parsing do HTML\n",
    "    soup = BeautifulSoup(response.text, \"html.parser\")\n",
    "    \n",
    "    # Encontra a tabela específica pela classe\n",
    "    table = soup.find(\"table\", class_=\"tb_base tb_dados\")\n",
    "\n",
    "    if table:\n",
    "        # Converte a tabela em um DataFrame do Pandas\n",
    "        df = pd.read_html(str(table), header=0)[0]\n",
    "        print(df)\n",
    "    else:\n",
    "        print(\"Nenhuma tabela com a classe 'tb_base tb_dados' foi encontrada.\")\n",
    "else:\n",
    "    print(f\"Erro ao acessar a página: {response.status_code}\")\n"
   ]
  }
 ],
 "metadata": {
  "kernelspec": {
   "display_name": "Python 3",
   "language": "python",
   "name": "python3"
  },
  "language_info": {
   "codemirror_mode": {
    "name": "ipython",
    "version": 3
   },
   "file_extension": ".py",
   "mimetype": "text/x-python",
   "name": "python",
   "nbconvert_exporter": "python",
   "pygments_lexer": "ipython3",
   "version": "3.12.0"
  }
 },
 "nbformat": 4,
 "nbformat_minor": 2
}
